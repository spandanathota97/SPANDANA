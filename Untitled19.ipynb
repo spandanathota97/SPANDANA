{
 "cells": [
  {
   "cell_type": "code",
   "execution_count": 8,
   "metadata": {},
   "outputs": [
    {
     "name": "stdout",
     "output_type": "stream",
     "text": [
      "RNBWOIA is incorrect\n",
      "The correct option is:RAINBOW\n"
     ]
    }
   ],
   "source": [
    "import random\n",
    "def shuffling(given):\n",
    "    given=str(given)\n",
    "    words=['RAINBOW','RANIBOW','BOWRANI','ROBWANI']\n",
    "    shuffled=''.join(random.sample(given,len(given)))\n",
    "    if shuffled=='RAINBOW':\n",
    "        return shuffled\n",
    "        print(\"The correct option is : RAINBOW\")\n",
    "    else:\n",
    "        print(shuffled,\"is incorrect\")\n",
    "        print(\"The correct option is:RAINBOW\")\n",
    "shuffling('OBANWRI')"
   ]
  },
  {
   "cell_type": "code",
   "execution_count": 9,
   "metadata": {},
   "outputs": [
    {
     "name": "stdout",
     "output_type": "stream",
     "text": [
      "LETS UPGRADE\n"
     ]
    }
   ],
   "source": [
    "print(\"LETS UPGRADE\")"
   ]
  },
  {
   "cell_type": "code",
   "execution_count": 13,
   "metadata": {},
   "outputs": [
    {
     "name": "stdout",
     "output_type": "stream",
     "text": [
      "23\n",
      "7\n"
     ]
    }
   ],
   "source": [
    "cp=eval(input())\n",
    "sp=eval(input())"
   ]
  },
  {
   "cell_type": "code",
   "execution_count": 14,
   "metadata": {},
   "outputs": [
    {
     "name": "stdout",
     "output_type": "stream",
     "text": [
      "loss\n"
     ]
    }
   ],
   "source": [
    "if cp < sp:\n",
    "    print(\"profit\")\n",
    "elif cp > sp:\n",
    "    print(\"loss\")\n",
    "else:\n",
    "    print(\"neither\")\n"
   ]
  },
  {
   "cell_type": "code",
   "execution_count": 15,
   "metadata": {},
   "outputs": [
    {
     "name": "stdout",
     "output_type": "stream",
     "text": [
      "18\n",
      "1440\n"
     ]
    }
   ],
   "source": [
    "E=eval(input())\n",
    "R=80\n",
    "R=E*R\n",
    "print(R)"
   ]
  },
  {
   "cell_type": "code",
   "execution_count": null,
   "metadata": {},
   "outputs": [],
   "source": []
  },
  {
   "cell_type": "code",
   "execution_count": null,
   "metadata": {},
   "outputs": [],
   "source": []
  }
 ],
 "metadata": {
  "kernelspec": {
   "display_name": "Python 3",
   "language": "python",
   "name": "python3"
  },
  "language_info": {
   "codemirror_mode": {
    "name": "ipython",
    "version": 3
   },
   "file_extension": ".py",
   "mimetype": "text/x-python",
   "name": "python",
   "nbconvert_exporter": "python",
   "pygments_lexer": "ipython3",
   "version": "3.7.6"
  }
 },
 "nbformat": 4,
 "nbformat_minor": 4
}
