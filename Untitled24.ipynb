{
 "cells": [
  {
   "cell_type": "code",
   "execution_count": 1,
   "metadata": {},
   "outputs": [
    {
     "name": "stdout",
     "output_type": "stream",
     "text": [
      "\\Enter the value: 1\n",
      "\\Enter the value: 2\n",
      "\\Enter the value: 3\n",
      "\\Enter the value: 4\n",
      "\\Enter the value: 5\n",
      "\\Enter the value: 6\n",
      "\\Enter the value: 7\n",
      "\\Enter the value: 8\n",
      "\\Enter the value: 9\n",
      "\\Enter the value: 10\n",
      "\n",
      " The even list [2, 4, 6, 8, 10]\n"
     ]
    }
   ],
   "source": [
    "lst=[]\n",
    "for i in range (0,10):\n",
    "    x=int(input(\"\\Enter the value: \"))\n",
    "    lst.append(x)\n",
    "    even_lst= []\n",
    "for i in lst:\n",
    "    if (i%2==0):\n",
    "        even_lst.append(i)\n",
    "print(\"\\n The even list\",even_lst)"
   ]
  },
  {
   "cell_type": "code",
   "execution_count": 2,
   "metadata": {},
   "outputs": [
    {
     "name": "stdout",
     "output_type": "stream",
     "text": [
      "[2, 4, 6, 8]\n"
     ]
    }
   ],
   "source": [
    "lst = [1,2,3,4,5,6,7,8]\n",
    "even_lst=[i for i in lst if i%2==0]\n",
    "print(even_lst)"
   ]
  },
  {
   "cell_type": "code",
   "execution_count": 3,
   "metadata": {},
   "outputs": [
    {
     "name": "stdout",
     "output_type": "stream",
     "text": [
      "15\n",
      "{1: 1, 2: 4, 3: 9, 4: 16, 5: 25, 6: 36, 7: 49, 8: 64, 9: 81, 10: 100, 11: 121, 12: 144, 13: 169, 14: 196, 15: 225}\n"
     ]
    }
   ],
   "source": [
    "dict={}\n",
    "n=int(input())\n",
    "for i in range(1,n+1):\n",
    "    dict[i]=i*i\n",
    "print(dict)"
   ]
  },
  {
   "cell_type": "code",
   "execution_count": 4,
   "metadata": {},
   "outputs": [
    {
     "name": "stdout",
     "output_type": "stream",
     "text": [
      "4\n",
      "up 5\n",
      "down 3\n",
      "left 3\n",
      "right 2\n",
      "2\n"
     ]
    }
   ],
   "source": [
    "position={\"x\":0,\"y\":0}\n",
    "n=int(input())\n",
    "for i in range (n):\n",
    "    move=input().split(\" \")\n",
    "    if move[0].lower()==\"up\":\n",
    "        position[\"y\"] +=int(move[1])\n",
    "    elif move[0].lower()==  \"down\":\n",
    "        position [\"y\"] -=int(move[1])\n",
    "    elif move[0].lower()== \"left\":\n",
    "        position[\"x\"] -=int(move[1])\n",
    "    elif move[0].lower()== \"right\":\n",
    "        position[\"x\"] +=int(move[1])\n",
    "print(int(round((position[\"x\"]**2 + position[\"y\"]**2)**0.5)))"
   ]
  },
  {
   "cell_type": "code",
   "execution_count": null,
   "metadata": {},
   "outputs": [],
   "source": []
  }
 ],
 "metadata": {
  "kernelspec": {
   "display_name": "Python 3",
   "language": "python",
   "name": "python3"
  },
  "language_info": {
   "codemirror_mode": {
    "name": "ipython",
    "version": 3
   },
   "file_extension": ".py",
   "mimetype": "text/x-python",
   "name": "python",
   "nbconvert_exporter": "python",
   "pygments_lexer": "ipython3",
   "version": "3.7.6"
  }
 },
 "nbformat": 4,
 "nbformat_minor": 4
}
